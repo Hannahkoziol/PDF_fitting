{
 "cells": [
  {
   "cell_type": "code",
   "execution_count": 2,
   "id": "01b48c2e",
   "metadata": {},
   "outputs": [],
   "source": [
    "import lmfit\n",
    "import numpy as np\n",
    "import matplotlib.pyplot as plt"
   ]
  },
  {
   "cell_type": "code",
   "execution_count": 3,
   "id": "7d62c1e1",
   "metadata": {},
   "outputs": [],
   "source": [
    "### initialize the parameters of the fake dataset\n",
    "data_N = 100 # number of data points\n",
    "data_min = 0. # minimum x value\n",
    "data_max = 4. # maximum x value\n",
    "data_sigma = 0.5 # uncertainty in y (currently constant, but code could be modified for variable uncs)\n",
    "true_m1 = 2. # the true slope of the first line\n",
    "true_m2 = -2. # the true slope of the second line\n",
    "true_b1 = 0. # the y-intercept of the first line\n",
    "true_break = 2. # the x value of the breakpoint between the piecewise lines\n",
    "\n",
    "### now we define a model for the first fitting method\n",
    "def piecewise_pyramid(x,m1=true_m1,m2=true_m2,b1=true_b1, pbreak=true_break):\n",
    "    y = np.copy(x)\n",
    "    y[np.where(x<pbreak)] = x[np.where(x<pbreak)]*m1+b1\n",
    "    y[np.where(x>=pbreak)] = x[np.where(x>=pbreak)]*m2 + (m1-m2)*pbreak + b1\n",
    "    return y\n",
    "\n",
    "### make an array for the x data\n",
    "x = np.linspace(data_min,data_max,data_N)\n",
    "\n",
    "### use x data to generate noise-less y data\n",
    "y_clean = piecewise_pyramid(x)\n",
    "\n",
    "### come up with some gaussian noise \n",
    "noise = np.random.normal(0,data_sigma,data_N)\n",
    "\n",
    "### synthesize dirty y data\n",
    "y = y_clean+noise"
   ]
  },
  {
   "cell_type": "code",
   "execution_count": 12,
   "id": "4e78ead4",
   "metadata": {},
   "outputs": [
    {
     "data": {
      "text/plain": [
       "Text(0, 0.5, '$y$')"
      ]
     },
     "execution_count": 12,
     "metadata": {},
     "output_type": "execute_result"
    },
    {
     "data": {
      "image/png": "[encoded data removed]",
      "text/plain": [
       "<Figure size 360x360 with 1 Axes>"
      ]
     },
     "metadata": {
      "needs_background": "light"
     },
     "output_type": "display_data"
    }
   ],
   "source": [
    "### simple visualization of the data\n",
    "fig,ax = plt.subplots(figsize=(5,5))\n",
    "ax.scatter(x,y,color='k',marker='.',s=10)\n",
    "ax.set_xlabel('$x$')\n",
    "ax.set_ylabel('$y$')"
   ]
  },
  {
   "cell_type": "code",
   "execution_count": null,
   "id": "edfbd035",
   "metadata": {},
   "outputs": [],
   "source": []
  },
  {
   "cell_type": "code",
   "execution_count": null,
   "id": "84ea1843",
   "metadata": {},
   "outputs": [],
   "source": []
  },
  {
   "cell_type": "code",
   "execution_count": null,
   "id": "a83f367b",
   "metadata": {},
   "outputs": [],
   "source": []
  },
  {
   "cell_type": "code",
   "execution_count": 10,
   "id": "1f19b559",
   "metadata": {},
   "outputs": [],
   "source": [
    "### Method one: this follows the examples we've been doing, but doesn't work for confidence intervals\\\n",
    "### Since method 2 works, I'm just going to comment this out for now. \n",
    "\n",
    "# def residual(params, data, x):\n",
    "#     p_m1 = params['m1']\n",
    "#     p_m2 = params['m2']\n",
    "#     p_b1 = params['b1']\n",
    "#     p_x0 = params['x0']\n",
    "#     model = np.zeros(len(x))   \n",
    "#     model[np.where(x<p_x0)] = x[np.where(x<p_x0)]*p_m1+p_b1\n",
    "#     model[np.where(x>=p_x0)] = x[np.where(x>=p_x0)]*p_m2 + (p_m1-p_m2)*p_x0 + p_b1\n",
    "#     return model - data \n",
    "\n",
    "# params = lmfit.Parameters()\n",
    "# params.add('m1', value=1.5)\n",
    "# params.add('m2', value=-1.5)\n",
    "# params.add('b1', value=0.2)\n",
    "# params.add('x0', value=2.5)\n",
    "\n",
    "# mini = lmfit.Minimizer(residual, params,args=(y,x))\n",
    "# out = lmfit.minimize(residual, params,args=(y,x))\n",
    "# lmfit.report_fit(out.params)\n",
    "# #ci = lmfit.conf_interval(mini, out, verbose=True)\n",
    "\n",
    "# fit_x0 = out.params['x0'].value\n",
    "# fit_m1 = out.params['m1'].value\n",
    "# fit_m2 = out.params['m2'].value\n",
    "# fit_b1 = out.params['b1'].value\n",
    "# fit_b2 = (fit_m1-fit_m2)*fit_x0 + fit_b1\n",
    "\n",
    "# max_m1, min_m1 = fit_m1+out.params['m1'].stderr, fit_m1-out.params['m1'].stderr\n",
    "# max_m2, min_m2 = fit_m2+out.params['m2'].stderr, fit_m2-out.params['m2'].stderr\n",
    "# max_b1, min_b1 = fit_b1+out.params['b1'].stderr, fit_b1-out.params['b1'].stderr\n",
    "# max_b2, min_b2 = (max_m1-max_m2)*fit_x0 + max_b1, (min_m1-min_m2)*fit_x0 + min_b1\n"
   ]
  },
  {
   "cell_type": "code",
   "execution_count": 18,
   "id": "2a40fa9d",
   "metadata": {},
   "outputs": [
    {
     "name": "stderr",
     "output_type": "stream",
     "text": [
      "/Users/hph/anaconda3/envs/pdf_env/lib/python3.9/site-packages/lmfit/model.py:990: UserWarning: The keyword argument x0 does not match any arguments of the model function. It will be ignored.\n",
      "  warnings.warn(f\"The keyword argument {name} does not \" +\n"
     ]
    },
    {
     "name": "stdout",
     "output_type": "stream",
     "text": [
      "[[Model]]\n",
      "    Model(piecewise_pyramid)\n",
      "[[Fit Statistics]]\n",
      "    # fitting method   = leastsq\n",
      "    # function evals   = 16\n",
      "    # data points      = 100\n",
      "    # variables        = 4\n",
      "    chi-square         = 26.2160197\n",
      "    reduced chi-square = 0.27308354\n",
      "    Akaike info crit   = -125.879952\n",
      "    Bayesian info crit = -115.459272\n",
      "[[Variables]]\n",
      "    m1:      2.11688165 +/- 0.12303872 (5.81%) (init = 1.5)\n",
      "    m2:     -2.21174332 +/- 0.13065015 (5.91%) (init = -1.5)\n",
      "    b1:     -0.16162586 +/- 0.14422372 (89.23%) (init = 2.5)\n",
      "    pbreak:  2.02875700 +/- 0.04832612 (2.38%) (init = 2)\n",
      "[[Correlations]] (unreported correlations are < 0.100)\n",
      "    C(m1, b1)     = -0.862\n",
      "    C(m2, pbreak) = -0.626\n",
      "    C(m1, pbreak) = -0.599\n",
      "    C(b1, pbreak) = 0.339\n"
     ]
    }
   ],
   "source": [
    "### Method two, this one seems simpler and works just as well (including confidence interval!)\n",
    "\n",
    "model_obj = lmfit.Model(piecewise_pyramid)\n",
    "result = model_obj.fit(y,x=x,m1=1.5,m2=-1.5,b1=2.5,x0=2.5)\n",
    "uncs = result.eval_uncertainty(sigma=3)\n",
    "\n",
    "### grab all the mean value results for fit parameters\n",
    "fit_x0 = result.params['pbreak'].value\n",
    "fit_m1 = result.params['m1'].value\n",
    "fit_m2 = result.params['m2'].value\n",
    "fit_b1 = result.params['b1'].value\n",
    "### we didn't fit for the y intercept of line 2, so we have to calculate it from the other parameters\n",
    "fit_b2 = (fit_m1-fit_m2)*fit_x0 + fit_b1\n",
    "\n",
    "\n",
    "print(result.fit_report())\n",
    "\n",
    "### calculate confidence intervals\n",
    "ci = result.conf_interval()"
   ]
  },
  {
   "cell_type": "code",
   "execution_count": 19,
   "id": "9bcc828c",
   "metadata": {},
   "outputs": [
    {
     "name": "stdout",
     "output_type": "stream",
     "text": [
      "           99.73%    95.45%    68.27%    _BEST_    68.27%    95.45%    99.73%\n",
      " m1    :  -0.36104  -0.23617  -0.12370   2.11688  +0.14736  +0.29932  +0.45651\n",
      " m2    :  -0.40308  -0.25414  -0.13134  -2.21174  +0.14872  +0.29220  +0.42936\n",
      " b1    :  -0.47434  -0.30837  -0.15893  -0.16163  +0.14498  +0.29210  +0.43939\n",
      " pbreak:  -0.18182  -0.13055  -0.06920   2.02876  +0.04260  +0.09120  +0.16017\n"
     ]
    }
   ],
   "source": [
    "### print the confidence intervals for fit parameters (not currently used for anything)\n",
    "lmfit.printfuncs.report_ci(ci)"
   ]
  },
  {
   "cell_type": "code",
   "execution_count": 31,
   "id": "6804a629",
   "metadata": {},
   "outputs": [
    {
     "data": {
      "text/plain": [
       "Text(0, 0.5, '$y$')"
      ]
     },
     "execution_count": 31,
     "metadata": {},
     "output_type": "execute_result"
    },
    {
     "data": {
      "image/png": "[encoded data removed]",
      "text/plain": [
       "<Figure size 360x360 with 1 Axes>"
      ]
     },
     "metadata": {
      "needs_background": "light"
     },
     "output_type": "display_data"
    }
   ],
   "source": [
    "### visualize the data with the fit line and 3-sigma confidence intervals for the mean y values!\n",
    "fig,ax = plt.subplots(figsize=(5,5))\n",
    "x_arr = np.linspace(data_min,data_max,1000)\n",
    "ax.scatter(x,y,color='k',marker='.',s=10)\n",
    "ax.plot(x_arr[np.where(x_arr<fit_x0)],x_arr[np.where(x_arr<fit_x0)]*fit_m1 + fit_b1,color='purple')\n",
    "ax.plot(x_arr[np.where(x_arr>=fit_x0)],x_arr[np.where(x_arr>=fit_x0)]*fit_m2 + fit_b2,color='purple')\n",
    "scooch=-0.0087\n",
    "ax.fill_between(x[np.where(x<fit_x0)],\n",
    "                y1 = x[np.where(x<fit_x0)]*fit_m1 + fit_b1 -uncs[np.where(x<fit_x0)], \n",
    "                y2=x[np.where(x<fit_x0)]*fit_m1 + fit_b1+uncs[np.where(x<fit_x0)],\n",
    "                color='cornflowerblue',alpha=0.3)\n",
    "ax.fill_between(x[np.where(x>fit_x0+scooch)],\n",
    "                y1 = x[np.where(x>fit_x0+scooch)]*fit_m2 + fit_b2 -uncs[np.where(x>fit_x0+scooch)], \n",
    "                y2=x[np.where(x>fit_x0+scooch)]*fit_m2 + fit_b2+uncs[np.where(x>fit_x0+scooch)],\n",
    "                color='cornflowerblue',alpha=0.3)\n",
    "ax.set_xlabel('$x$')\n",
    "ax.set_ylabel('$y$')"
   ]
  },
  {
   "cell_type": "code",
   "execution_count": null,
   "id": "68933e1d",
   "metadata": {},
   "outputs": [],
   "source": []
  },
  {
   "cell_type": "code",
   "execution_count": null,
   "id": "16b968eb",
   "metadata": {},
   "outputs": [],
   "source": []
  },
  {
   "cell_type": "code",
   "execution_count": null,
   "id": "646d8b78",
   "metadata": {},
   "outputs": [],
   "source": []
  },
  {
   "cell_type": "code",
   "execution_count": null,
   "id": "0c7934aa",
   "metadata": {},
   "outputs": [],
   "source": []
  },
  {
   "cell_type": "code",
   "execution_count": null,
   "id": "b67a5fe9",
   "metadata": {},
   "outputs": [],
   "source": []
  },
  {
   "cell_type": "code",
   "execution_count": null,
   "id": "f4282bc3",
   "metadata": {},
   "outputs": [],
   "source": []
  }
 ],
 "metadata": {
  "kernelspec": {
   "display_name": "Python 3 (ipykernel)",
   "language": "python",
   "name": "python3"
  },
  "language_info": {
   "codemirror_mode": {
    "name": "ipython",
    "version": 3
   },
   "file_extension": ".py",
   "mimetype": "text/x-python",
   "name": "python",
   "nbconvert_exporter": "python",
   "pygments_lexer": "ipython3",
   "version": "3.9.12"
  }
 },
 "nbformat": 4,
 "nbformat_minor": 5
}
