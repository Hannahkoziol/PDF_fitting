{
 "cells": [
  {
   "cell_type": "code",
   "execution_count": 1,
   "metadata": {},
   "outputs": [],
   "source": [
    "import aplpy\n",
    "import os\n",
    "from astropy.io import fits\n",
    "import numpy as np\n",
    "import matplotlib.pyplot as plt\n",
    "from astropy import units as u\n",
    "from astropy.convolution import convolve_fft, Gaussian2DKernel\n",
    "import math \n",
    "from astropy import units as u\n",
    "from scipy.interpolate import UnivariateSpline\n",
    "import scipy.optimize as optimize\n",
    "from scipy.interpolate import interp1d\n",
    "import sys\n",
    "from numpy.random import rand,seed\n",
    "from pylab import *"
   ]
  },
  {
   "cell_type": "code",
   "execution_count": 2,
   "metadata": {},
   "outputs": [],
   "source": [
    "sys.path.insert(1, '/Users/hannahkoziol/Dropbox/Research/python_modules/plfit')\n",
    "import plfit"
   ]
  },
  {
   "cell_type": "code",
   "execution_count": 3,
   "metadata": {},
   "outputs": [],
   "source": [
    "#LOADING IN DATA\n",
    "mosiac = fits.open('/Users/hannahkoziol/Dropbox/Research/CMZoom_continuum_pbcor_feathered.fits')\n",
    "mask = fits.open('/Users/hannahkoziol/Dropbox/Research/CMZoom_Mask_new.fits')\n",
    "mosiac_data = mosiac[0].data\n",
    "mask_data = mask[0].data\n",
    "mosiac_flat = mosiac_data.flatten()\n",
    "mask_flat = mask_data.flatten()"
   ]
  },
  {
   "cell_type": "code",
   "execution_count": 4,
   "metadata": {},
   "outputs": [],
   "source": [
    "region_names = np.array(['G1.683-0.089',\n",
    "                      'G1.670-0.130',\n",
    "                      'G1.651-0.050',\n",
    "                      'G1.602+0.018',\n",
    "                      'G1.085-0.027',\n",
    "                      'G1.038-0.074',\n",
    "                      'G0.891-0.048',\n",
    "                      'G0.714-0.100',\n",
    "                      'G0.699-0.028',\n",
    "                      'G0.619+0.012',\n",
    "                      'G0.489+0.010',\n",
    "                      'G0.412+0.052',\n",
    "                      'G0.393-0.034',\n",
    "                      'G0.380+0.050',\n",
    "                      'G0.340+0.055',\n",
    "                      'G0.326-0.085',\n",
    "                      'G0.316-0.201',\n",
    "                      'G0.253+0.016',\n",
    "                      'G0.212-0.001',\n",
    "                      'G0.145-0.086',\n",
    "                      'G0.106-0.082',\n",
    "                      'G0.070-0.035',\n",
    "                      'G0.068-0.075',\n",
    "                      'G0.054+0.027',\n",
    "                      'G0.014+0.021',\n",
    "                      'G0.001-0.058',\n",
    "                      'G359.948-0.052',\n",
    "                      'G359.889-0.093',\n",
    "                      'G359.865+0.022',\n",
    "                      'G359.863-0.069',\n",
    "                      'G359.734+0.002',\n",
    "                      'G359.648-0.133',\n",
    "                      'G359.611+0.018',\n",
    "                      'G359.615-0.243',\n",
    "                      'G359.484-0.132',\n",
    "                      'G359.137+0.031'])"
   ]
  },
  {
   "cell_type": "code",
   "execution_count": 5,
   "metadata": {},
   "outputs": [],
   "source": [
    "cnames = np.array(['',\n",
    "                 '',\n",
    "                 '',\n",
    "                 'The Dancer Cloud',\n",
    "                 '',\n",
    "                 '',\n",
    "                 '',\n",
    "                 'The Chela Cloud',\n",
    "                 'Sgr B2',\n",
    "                 'Sgr B2 SE',\n",
    "                 'Dust Ridge Clouds E\\\\&F',\n",
    "                 'Dust Ridge Cloud D',\n",
    "                 '',\n",
    "                 'Dust Ridge Cloud C',\n",
    "                 'Dust Ridge Cloud B',\n",
    "                 '',\n",
    "                 '',\n",
    "                 'The Brick',\n",
    "                 '',\n",
    "                 'The Straw Cloud',\n",
    "                 'The Sticks Cloud',\n",
    "                 '',\n",
    "                 'The Stone Cloud',\n",
    "                 '',\n",
    "                 '',\n",
    "                 'The 20 km/s cloud',\n",
    "                 'Sgr A* region',\n",
    "                 'The 50 km/s cloud',\n",
    "                 '',\n",
    "                 '',\n",
    "                 '',\n",
    "                 '',\n",
    "                 '',\n",
    "                 'Sgr C',\n",
    "                 '',\n",
    "                 ''])"
   ]
  },
  {
   "cell_type": "code",
   "execution_count": 6,
   "metadata": {},
   "outputs": [],
   "source": [
    "distance        = 8178. # distance to GC; (GRAVITY collaboration 2019)\n",
    "Wave            = (3.0e8/226.0e9) # define the wavelength from the SMA dust continuum frequency. \n",
    "Wave0           = 1.3e-3\n",
    "k0              = 0.899\n",
    "nu              = 3.e08/Wave\n",
    "nu0             = 3.e08/Wave0\n",
    "beta            = 1.75\n",
    "Kappag2d        = k0*((nu/nu0)**beta)\n",
    "g2d             = 100.0\n",
    "Kappa           = Kappag2d / g2d # this kappa is the dust opacity, it's kind of complicated where it comes from, but if you're interested I can find you some stuff about it!\n",
    "mu              = 2.8 # This mu is the mean atomic weight. \n",
    "hplanck = 6.626176e-34 #Joule seconds\n",
    "clight = 3e8 #m/s\n",
    "kboltzmann = 1.380649e-23 #Joule/Kelvin\n",
    "mh = 1.6737236e-27"
   ]
  },
  {
   "cell_type": "code",
   "execution_count": 7,
   "metadata": {},
   "outputs": [],
   "source": [
    "def planck_wave(Wave, Temp):\n",
    "    planck_conv_wave = 1.e-26 *clight /Wave**2.0\n",
    "    planck = ((2.0*hplanck*clight**2.0)/(Wave**5.0))*(1.0/(np.exp((hplanck*clight)/(Wave*kboltzmann*Temp))-1.0))\n",
    "    planck = planck/planck_conv_wave\n",
    "    return planck"
   ]
  },
  {
   "cell_type": "code",
   "execution_count": 8,
   "metadata": {},
   "outputs": [],
   "source": [
    "def column_density(Wave, Temp, Kappa, Flux_Density, mu):\n",
    "    B = planck_wave(Wave, Temp)\n",
    "    N = Flux_Density / (mu * (mh*1.e3) * Kappa * B)\n",
    "    return N"
   ]
  },
  {
   "cell_type": "code",
   "execution_count": 19,
   "metadata": {},
   "outputs": [],
   "source": [
    "#RETRIEVING CLOUD\n",
    "def find_cloud(mask_number):\n",
    "    cloud_mask = np.argwhere(mask_flat == mask_number)\n",
    "    cloud_data = mosiac_flat[cloud_mask]\n",
    "    column_density_cloud_array = column_density(Wave, 25, Kappa, cloud_data, mu)\n",
    "    column_density_cloud_array_flat = column_density_cloud_array.flatten()\n",
    "    return column_density_cloud_array_flat"
   ]
  },
  {
   "cell_type": "code",
   "execution_count": 20,
   "metadata": {},
   "outputs": [],
   "source": [
    "#CLOUD NAME\n",
    "def cloud_name(mask_number):\n",
    "    cloud_name = []\n",
    "    if cnames[(mask_number - 1)] != '':\n",
    "        cloud_name = cnames[(mask_number - 1)]\n",
    "    else:\n",
    "        cloud_name = region_names[(mask_number - 1)]\n",
    "    return cloud_name"
   ]
  },
  {
   "cell_type": "code",
   "execution_count": 21,
   "metadata": {},
   "outputs": [],
   "source": [
    "#CREATING HISTOGRAMS AND SPLINE INPUTS\n",
    "def histogram_before_fit(column_density):\n",
    "    fig, ax = plt.subplots()\n",
    "    plt.hist(column_density, bins=np.logspace(22, 23.5, 30), histtype = 'step', log=True, label = \"CMZoom Cloud\", color='mediumpurple', alpha=0.99)\n",
    "    cloud_hist = plt.hist(column_density, bins=np.logspace(22, 23.5, 30), log=True, color='mediumpurple', alpha=0.3)\n",
    "    ax.set_xscale('log')\n",
    "    plt.xlabel('$Log_{10}$ Column Density $\\#/cm^2$')\n",
    "    plt.ylabel('$Log_{10} Frequency$')\n",
    "    plt.legend(loc = 'lower left')\n",
    "    plt.close()\n",
    "    \n",
    "    cloud_x = cloud_hist[1]\n",
    "    cloud_mid = [(a + b) /2 for a,b in zip(cloud_x[:-1], cloud_x[1:])]\n",
    "    cloud_y = cloud_hist[0]\n",
    "    x_cloud_x = np.array(cloud_mid)\n",
    "    y_cloud_y = np.array(cloud_y)\n",
    "    \n",
    "    return x_cloud_x, y_cloud_y"
   ]
  },
  {
   "cell_type": "code",
   "execution_count": 22,
   "metadata": {},
   "outputs": [],
   "source": [
    "#COMBINING THESE FUNCTIONS\n",
    "def histogram_harvesting(cloud_mask_number):\n",
    "    cloud_data_flat_array = find_cloud(cloud_mask_number)\n",
    "    return histogram_before_fit(cloud_data_flat_array)"
   ]
  },
  {
   "cell_type": "code",
   "execution_count": 23,
   "metadata": {},
   "outputs": [],
   "source": [
    "#SPLINE FITTING ROUTINE\n",
    "def spline_method(x_data, y_data):\n",
    "    spl = UnivariateSpline(x_data, np.log(y_data), k = 1, s = .03)\n",
    "    x_num_array = np.linspace(min(x_data), max(x_data), 500)\n",
    "    deriv = spl.derivative(1)\n",
    "\n",
    "    plt.plot(x_data, y_data, label = 'Data' )\n",
    "    plt.plot(x_num_array, np.exp(spl(x_num_array)), label = 'Fit', linestyle = ':', color = 'red')\n",
    "    plt.legend()\n",
    "    plt.show()\n",
    "    \n",
    "    plt.plot(x_num_array, deriv(x_num_array), label = '1st Derivative')\n",
    "    plt.xscale('log')\n",
    "    plt.legend()\n",
    "    plt.show()\n",
    "    \n",
    "    max_deriv = deriv(x_num_array)[1]\n",
    "    x_min_value = x_num_array[np.argwhere(deriv(x_num_array) < max_deriv)][0]\n",
    "    \n",
    "    \n",
    "    return x_min_value"
   ]
  },
  {
   "cell_type": "code",
   "execution_count": 24,
   "metadata": {},
   "outputs": [],
   "source": [
    "#ADDING FIT LINE\n",
    "def plotpdf(self,x=None,xmin=None,alpha=None,nbins=30,dolog=True,dnds=False,\n",
    "            drawstyle='steps-post', histcolor='k', plcolor='r', **kwargs):\n",
    "        \"\"\"\n",
    "        Plots PDF and powerlaw.\n",
    "\n",
    "        kwargs is passed to pylab.hist and pylab.plot\n",
    "        \"\"\"\n",
    "        if not(x): x=self.data\n",
    "        if not(xmin): xmin=self._xmin\n",
    "        if not(alpha): alpha=self._alpha\n",
    "\n",
    "        x=np.sort(x)\n",
    "        n=len(x)\n",
    "\n",
    "        plt.gca().set_xscale('log')\n",
    "        plt.gca().set_yscale('log')\n",
    "\n",
    "        if dnds:\n",
    "            hb = plt.hist(x,bins=np.logspace(log10(min(x)),log10(max(x)),nbins, histtype = 'step'))\n",
    "            h = hb[0]\n",
    "            b = hb[1]\n",
    "            db = hb[1][1:]-hb[1][:-1]\n",
    "            h = h/db\n",
    "            plt.plot(b[:-1],h,drawstyle=drawstyle,color=histcolor,**kwargs)\n",
    "            #alpha -= 1\n",
    "        elif dolog:\n",
    "            hb = plt.hist(x,bins=np.logspace(log10(min(x)),log10(max(x)),nbins),log=True,fill=False,edgecolor='none', histtype = 'step', **kwargs)\n",
    "            alpha -= 1\n",
    "            h,b=hb[0],hb[1]\n",
    "        else:\n",
    "            hb = plt.hist(x,bins=np.linspace((min(x)),(max(x)),nbins),fill=False,edgecolor='none', histtype = 'none', **kwargs)\n",
    "            h,b=hb[0],hb[1]\n",
    "        # plotting points are at the center of each bin\n",
    "        b = (b[1:]+b[:-1])/2.0\n",
    "\n",
    "        q = x[x>=xmin]\n",
    "        px = (alpha-1)/xmin * (q/xmin)**(-alpha)\n",
    "\n",
    "        # Normalize by the median ratio between the histogram and the power-law\n",
    "        # The normalization is semi-arbitrary; an average is probably just as valid\n",
    "        plotloc = (b>xmin)*(h>0)\n",
    "        norm = np.median( h[plotloc] / ((alpha-1)/xmin * (b[plotloc]/xmin)**(-alpha))  )\n",
    "        px = px*norm\n",
    "\n",
    "        plotx = np.linspace(q.min(),q.max(),1000)\n",
    "        ploty = (alpha-1)/xmin * (plotx/xmin)**(-alpha) * norm\n",
    "\n",
    "        #pylab.loglog(q,px,'r',**kwargs)\n",
    "        plt.loglog(plotx,ploty,color=plcolor,**kwargs)\n",
    "\n",
    "        axlims = plt.axis()\n",
    "        plt.vlines(xmin,axlims[2],max(px),colors=plcolor,linestyle='dashed')\n",
    "\n",
    "        plt.gca().set_xlim(min(x),max(x))"
   ]
  },
  {
   "cell_type": "code",
   "execution_count": 25,
   "metadata": {},
   "outputs": [],
   "source": [
    "#USING PLFIT\n",
    "def plfit_method(column_density_array, xmin_value):\n",
    "    myplfit = plfit.plfit(column_density_array[(column_density_array>=1e22)], xmin = xmin_value, discrete = False, usefortran=False)\n",
    "    print('Fitting done')\n",
    "    figure(1)\n",
    "    myplfit.plotpdf()\n",
    "    ax = plt.gca()\n",
    "    #ax.set_xlim(1e22, 4e23)\n",
    "    #ax.set_ylim(0.5, 8e3)\n",
    "    print('Plot 1 done')\n",
    "    figure(2)\n",
    "    myplfit.plotcdf()\n",
    "    print('Plot 2 done')\n",
    "    figure(3)\n",
    "    myplfit.plotppf()\n",
    "    print('Plot 3 done')\n",
    "    return myplfit"
   ]
  },
  {
   "cell_type": "code",
   "execution_count": 26,
   "metadata": {},
   "outputs": [],
   "source": [
    "#PLOTTING FINAL HISTOGRAM\n",
    "def final_histogram(column_density, mask_number):\n",
    "    fig, ax = plt.subplots()\n",
    "    plt.hist(column_density, bins=np.logspace(22, 23.5, 30), histtype = 'step', log=True, label = \"Before Observation and Cleaning\", color='mediumpurple', alpha=0.99)\n",
    "    plt.hist(column_density, bins=np.logspace(22, 23.5, 30), log=True, color='mediumpurple', alpha=0.3)\n",
    "    ax.set_xscale('log')\n",
    "    plt.xlabel('$Log_{10}$ Column Density $\\#/cm^2$')\n",
    "    plt.ylabel('$Log_{10} Frequency$')\n",
    "    ax.set_title(cloud_name(mask_number))\n",
    "    plt.legend(loc = 'lower left')\n",
    "    plotpdf(myplfit_cloud, plcolor='mediumpurple')\n",
    "    plt.text(8e22, np.max(y_cloud_y), r'$\\alpha = 4.84754 \\pm $' + str(myplfit_cloud._alpha), horizontalalignment = 'left', color = 'mediumpurple')\n",
    "    plt.xlim(1e22, 3e23)\n",
    "    plt.show()"
   ]
  },
  {
   "cell_type": "code",
   "execution_count": 32,
   "metadata": {},
   "outputs": [],
   "source": [
    "mask_number = 2\n",
    "x_cloud_x = histogram_harvesting(mask_number)[0]\n",
    "y_cloud_y = histogram_harvesting(mask_number)[1]"
   ]
  },
  {
   "cell_type": "code",
   "execution_count": 33,
   "metadata": {},
   "outputs": [
    {
     "name": "stdout",
     "output_type": "stream",
     "text": [
      "[1283. 1544. 1712. 1866. 2124. 2367. 2635. 2846. 2845. 2594. 2345. 1869.\n",
      " 1348.  993.  682.  505.  340.  233.  138.   74.   42.   38.   21.    0.\n",
      "    0.    0.    0.    0.    0.]\n"
     ]
    }
   ],
   "source": [
    "print(y_cloud_y)"
   ]
  },
  {
   "cell_type": "code",
   "execution_count": 38,
   "metadata": {},
   "outputs": [
    {
     "data": {
      "image/png": "[encoded data removed]",
      "text/plain": [
       "<Figure size 432x288 with 1 Axes>"
      ]
     },
     "metadata": {
      "needs_background": "light"
     },
     "output_type": "display_data"
    },
    {
     "data": {
      "image/png": "[encoded data removed]",
      "text/plain": [
       "<Figure size 432x288 with 1 Axes>"
      ]
     },
     "metadata": {
      "needs_background": "light"
     },
     "output_type": "display_data"
    },
    {
     "name": "stdout",
     "output_type": "stream",
     "text": [
      "2.7670972059413486e+22\n"
     ]
    }
   ],
   "source": [
    "x_min_cloud = spline_method(x_cloud_x[5:-6], y_cloud_y[5:-6])[0]\n",
    "print(x_min_cloud)"
   ]
  },
  {
   "cell_type": "code",
   "execution_count": 39,
   "metadata": {},
   "outputs": [
    {
     "name": "stdout",
     "output_type": "stream",
     "text": [
      "xmin: 2.7671e+22 n(>xmin): 12524 alpha: 3.71365 +/- 0.0242484   Log-Likelihood: -651810   ks: 0.065019 p(ks): 8.94076e-47\n",
      "Fitting done\n",
      "Plot 1 done\n",
      "Plot 2 done\n",
      "Plot 3 done\n"
     ]
    },
    {
     "data": {
      "image/png": "[encoded data removed]",
      "text/plain": [
       "<Figure size 432x288 with 1 Axes>"
      ]
     },
     "metadata": {
      "needs_background": "light"
     },
     "output_type": "display_data"
    },
    {
     "data": {
      "image/png": "[encoded data removed]",
      "text/plain": [
       "<Figure size 432x288 with 1 Axes>"
      ]
     },
     "metadata": {
      "needs_background": "light"
     },
     "output_type": "display_data"
    },
    {
     "data": {
      "image/png": "[encoded data removed]",
      "text/plain": [
       "<Figure size 432x288 with 1 Axes>"
      ]
     },
     "metadata": {
      "needs_background": "light"
     },
     "output_type": "display_data"
    }
   ],
   "source": [
    "flat_column_density_array_cloud = find_cloud(mask_number)\n",
    "myplfit_cloud = plfit_method(flat_column_density_array_cloud, x_min_cloud)"
   ]
  },
  {
   "cell_type": "code",
   "execution_count": 40,
   "metadata": {},
   "outputs": [
    {
     "data": {
      "image/png": "[encoded data removed]",
      "text/plain": [
       "<Figure size 432x288 with 1 Axes>"
      ]
     },
     "metadata": {
      "needs_background": "light"
     },
     "output_type": "display_data"
    }
   ],
   "source": [
    "final_histogram(flat_column_density_array_cloud, mask_number)"
   ]
  },
  {
   "cell_type": "code",
   "execution_count": null,
   "metadata": {},
   "outputs": [],
   "source": []
  }
 ],
 "metadata": {
  "kernelspec": {
   "display_name": "Python 3",
   "language": "python",
   "name": "python3"
  },
  "language_info": {
   "codemirror_mode": {
    "name": "ipython",
    "version": 3
   },
   "file_extension": ".py",
   "mimetype": "text/x-python",
   "name": "python",
   "nbconvert_exporter": "python",
   "pygments_lexer": "ipython3",
   "version": "3.7.4"
  }
 },
 "nbformat": 4,
 "nbformat_minor": 2
}
