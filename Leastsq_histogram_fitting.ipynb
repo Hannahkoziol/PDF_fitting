{
 "cells": [
  {
   "cell_type": "code",
   "execution_count": 27,
   "metadata": {},
   "outputs": [],
   "source": [
    "import aplpy\n",
    "import os\n",
    "from astropy.io import fits\n",
    "import numpy as np\n",
    "import matplotlib.pyplot as plt\n",
    "from astropy import units as u\n",
    "from astropy.convolution import convolve_fft, Gaussian2DKernel\n",
    "import math \n",
    "from astropy import units as u\n",
    "from scipy.interpolate import UnivariateSpline\n",
    "import scipy.optimize as optimize\n",
    "from scipy.interpolate import interp1d\n",
    "import sys\n",
    "from numpy.random import rand,seed\n",
    "from pylab import *\n",
    "from scipy import stats\n",
    "from lmfit import Minimizer, Parameters, report_fit"
   ]
  },
  {
   "cell_type": "code",
   "execution_count": 33,
   "metadata": {},
   "outputs": [],
   "source": [
    "#LOADING IN DATA FILES\n",
    "after_B1_000 = fits.open('/Users/hannahkoziol/Dropbox/Research/flux_trials/n_dens_pbcor/N_dens_feather10_B1_000_clean14_1_pbcor.fits')\n",
    "before_B1_000 = fits.open('/Users/hannahkoziol/Dropbox/Research/flux_trials/N_dens/N_dens_B1snap_000.fits')\n",
    "after_B1_051 = fits.open('/Users/hannahkoziol/Dropbox/Research/flux_trials/n_dens_pbcor/N_dens_feather10_B1_051_clean14_pbcor.fits')\n",
    "before_B1_051 = fits.open('/Users/hannahkoziol/Dropbox/Research/flux_trials/N_dens/N_dens_B1snap_051.fits')\n",
    "after_B10_000 = fits.open('/Users/hannahkoziol/Dropbox/Research/flux_trials/n_dens_pbcor/N_dens_feather10_B10_000_clean14_pbcor.fits')\n",
    "before_B10_000 = fits.open('/Users/hannahkoziol/Dropbox/Research/flux_trials/N_dens/N_dens_B10snap_000.fits')\n",
    "after_B10_066 = fits.open('/Users/hannahkoziol/Dropbox/Research/flux_trials/n_dens_pbcor/N_dens_feather10_B10_066_clean14_pbcor.fits')\n",
    "before_B10_066 = fits.open('/Users/hannahkoziol/Dropbox/Research/flux_trials/N_dens/N_dens_B10snap_066.fits')\n",
    "noise_B1_000 = fits.open('/Users/hannahkoziol/Dropbox/Research/flux_trials/flux10_noise_final/flux10_B1snap_000_clean14_1_noise_finalfwhm.fits')\n",
    "noise_B1_051 = fits.open('/Users/hannahkoziol/Dropbox/Research/flux_trials/flux10_noise_final/flux10_B1snap_051_clean14_noise_finalfwhm.fits')\n",
    "noise_B10_000 = fits.open('/Users/hannahkoziol/Dropbox/Research/flux_trials/flux10_noise_final/flux10_B10snap_000_clean14_noise_finalfwhm.fits')\n",
    "noise_B10_066 = fits.open('/Users/hannahkoziol/Dropbox/Research/flux_trials/flux10_noise_final/flux10_B10snap_066_clean14_noise_finalfwhm.fits')"
   ]
  },
  {
   "cell_type": "code",
   "execution_count": 34,
   "metadata": {},
   "outputs": [],
   "source": [
    "#SIMULATED OBSERVATIONAL DATA\n",
    "def simulated_data_retrieval(sim_self):\n",
    "    sim_self = sim_self[0].data\n",
    "    column_density_array_after = sim_self\n",
    "    flat_column_density_array_after = column_density_array_after.flatten()\n",
    "    return flat_column_density_array_after"
   ]
  },
  {
   "cell_type": "code",
   "execution_count": 35,
   "metadata": {},
   "outputs": [],
   "source": [
    "#ORIGINAL SIMULATION DATA\n",
    "def original_data_retrieval(snap_self):\n",
    "    snap_self = snap_self[0].data * 10\n",
    "    column_density_array_before = snap_self / (1e4)\n",
    "    flat_column_density_array_before = column_density_array_before.flatten()\n",
    "    return flat_column_density_array_before"
   ]
  },
  {
   "cell_type": "code",
   "execution_count": 36,
   "metadata": {},
   "outputs": [],
   "source": [
    "#COMBINING THESE FUNCTIONS\n",
    "def data_harvesting(before_data, after_data):\n",
    "    after_data_flat_array = simulated_data_retrieval(after_data)\n",
    "    before_data_flat_array = original_data_retrieval(before_data)\n",
    "    return before_data_flat_array, after_data_flat_array"
   ]
  },
  {
   "cell_type": "code",
   "execution_count": 37,
   "metadata": {},
   "outputs": [],
   "source": [
    "#GETTING SIGMA DATA\n",
    "def sigma_retrieval(noise_file):\n",
    "    sigma_data = noise_file[0].data\n",
    "    flat_sigma_data = sigma_data.flatten()\n",
    "    sigma_value = np.median(flat_sigma_data)\n",
    "    three_sigma_value = 3 * np.median(flat_sigma_data)\n",
    "    return three_sigma_value"
   ]
  },
  {
   "cell_type": "code",
   "execution_count": 38,
   "metadata": {},
   "outputs": [],
   "source": [
    "#SPLINE FITTING ROUTINE\n",
    "def spline_method(x_data, y_data):\n",
    "    spl = UnivariateSpline(x_data, (y_data), k = 1, s = .03)\n",
    "    x_num_array = np.linspace(min(x_data), max(x_data), 500)\n",
    "    deriv = spl.derivative(1)\n",
    "\n",
    "    plt.plot(x_data, y_data, label = 'Data' )\n",
    "    plt.plot(x_num_array, spl(x_num_array), label = 'Fit', linestyle = ':', color = 'red')\n",
    "    plt.legend()\n",
    "    plt.show()\n",
    "    \n",
    "    plt.plot(x_num_array, deriv(x_num_array), label = '1st Derivative')\n",
    "    plt.xscale('log')\n",
    "    plt.legend()\n",
    "    plt.show()\n",
    "    \n",
    "    max_deriv = deriv(x_num_array)[1]\n",
    "    x_min_value = x_num_array[np.argwhere(deriv(x_num_array) < max_deriv)][0]\n",
    "    \n",
    "    \n",
    "    return x_min_value"
   ]
  },
  {
   "cell_type": "code",
   "execution_count": 39,
   "metadata": {},
   "outputs": [],
   "source": [
    "#CREATING PLOTS OF DATA\n",
    "def create_pdf(image_data, number_of_bins):\n",
    "    image = np.log10(image_data)\n",
    "    n_min = np.min(image)\n",
    "    n_max = np.max(image)\n",
    "    n_bins = number_of_bins\n",
    "    n_total = np.count_nonzero(image)\n",
    "    n_edges = np.linspace(n_min, n_max, n_bins)\n",
    "    n_cens = [(a + b) /2 for a,b in zip(n_edges[:-1], n_edges[1:])]\n",
    "    \n",
    "    bin_width = n_edges[2] - n_edges[1]\n",
    "    \n",
    "    x_arr = np.array(n_cens)\n",
    "    y_arr = np.zeros(n_bins)\n",
    "    for i in range(n_bins -1):\n",
    "        pix_in_bin_i = np.where((image>n_edges[i]) & (image<n_edges[i+1]))[0]\n",
    "        y_arr[i] = np.array(np.count_nonzero(pix_in_bin_i) * ((n_total)**(-1)) * ((bin_width)**(-1)))\n",
    "        \n",
    "    normalization = y_arr * bin_width\n",
    "    normalization_check = np.sum(normalization)\n",
    "        \n",
    "    return x_arr, y_arr, normalization_check"
   ]
  },
  {
   "cell_type": "code",
   "execution_count": 40,
   "metadata": {},
   "outputs": [],
   "source": [
    "def plotting_pdf(image_data, number_of_bins):\n",
    "    x_arr = create_pdf(image_data, number_of_bins)[0]\n",
    "    y_arr = np.log10(create_pdf(image_data, number_of_bins)[1])\n",
    "    plt.scatter(x_arr, y_arr[:-1])\n",
    "    return x_arr, y_arr"
   ]
  },
  {
   "cell_type": "code",
   "execution_count": 41,
   "metadata": {},
   "outputs": [],
   "source": [
    "#FITTING FUNCTION USING ONLY SPILKER EQ 6\n",
    "def resid_log_powerlaw(avec, x, y):\n",
    "    alpha, beta = avec\n",
    "    R = np.zeros_like(x)\n",
    "    R = (alpha*x) + beta - y\n",
    "    return R"
   ]
  },
  {
   "cell_type": "code",
   "execution_count": 42,
   "metadata": {},
   "outputs": [],
   "source": [
    "#CREATING FIT\n",
    "def fit_powerlaw(afit, x):\n",
    "    yfit = np.zeros_like(x)\n",
    "    yfit = (afit[0]*x) + afit[1]\n",
    "    return yfit"
   ]
  },
  {
   "cell_type": "code",
   "execution_count": 43,
   "metadata": {},
   "outputs": [],
   "source": [
    "#PLOTTING FUNCTION FOR FINAL PDF WITH FITS\n",
    "def final_plot(x_before, x_powerlaw_before, y_before, x_after, x_powerlaw_after, y_after):\n",
    "    fig, ax = plt.subplots()\n",
    "    ax.scatter(x_before, y_before[:-1], color = 'firebrick')\n",
    "    ax.plot(x_powerlaw_before, (fit_powerlaw(afit_before, x_powerlaw_before)), color = 'firebrick', linestyle = ':', label = 'Before Observation and Cleaning')\n",
    "    plt.axvline(x_min_before, label = r'', linestyle = ':', color = 'firebrick')\n",
    "    ax.scatter(x_after, y_after[:-1], color = 'cornflowerblue')\n",
    "    ax.plot(x_powerlaw_after, (fit_powerlaw(afit_after, x_powerlaw_after)), color = 'cornflowerblue', linestyle = ':', label = 'After Observation and Cleaning')\n",
    "    plt.axvline(x_min_after, label = r'', linestyle = ':', color = 'cornflowerblue')\n",
    "    plt.axvline(np.log10(sigma_retrieval(noise_B1_000)), label = r'3 $\\sigma$', linestyle = ':', color = 'olive')\n",
    "    plt.text(23.1, 0.5, r'$\\alpha = $' + str(afit_before[0]), horizontalalignment = 'left', color = 'firebrick')\n",
    "    plt.text(23.1, 0.3, r'$\\alpha = $' + str(afit_after[0]), horizontalalignment = 'left', color = 'cornflowerblue')\n",
    "    plt.xlabel('Column Density $\\#/cm^2$')\n",
    "    plt.ylabel('$Log_{10} Probability Density$')\n",
    "    ax.set_title(title)\n",
    "    fig.set_size_inches(10,7)\n",
    "    plt.legend()\n",
    "    plt.legend(loc = 'lower left')\n",
    "    plt.show()"
   ]
  },
  {
   "cell_type": "code",
   "execution_count": 44,
   "metadata": {},
   "outputs": [],
   "source": [
    "data_array_before, data_array_after_all = data_harvesting(before_B1_000, after_B1_000)\n",
    "data_array_after = data_array_after_all[(data_array_after_all>1e22)]\n",
    "noise_data = noise_B1_000\n",
    "title = 'B1 000'"
   ]
  },
  {
   "cell_type": "code",
   "execution_count": 45,
   "metadata": {},
   "outputs": [
    {
     "name": "stderr",
     "output_type": "stream",
     "text": [
      "/Applications/anaconda3/lib/python3.7/site-packages/ipykernel_launcher.py:3: RuntimeWarning: divide by zero encountered in log10\n",
      "  This is separate from the ipykernel package so we can avoid doing imports until\n"
     ]
    },
    {
     "data": {
      "image/png": "[encoded data removed]",
      "text/plain": [
       "<Figure size 432x288 with 1 Axes>"
      ]
     },
     "metadata": {
      "needs_background": "light"
     },
     "output_type": "display_data"
    }
   ],
   "source": [
    "plotting_pdf(data_array_before, 30)\n",
    "x_arr_before = plotting_pdf(data_array_before, 30)[0]\n",
    "y_arr_before = plotting_pdf(data_array_before, 30)[1]\n",
    "plotting_pdf(data_array_after, 30)\n",
    "x_arr_after = plotting_pdf(data_array_after, 30)[0]\n",
    "y_arr_after = plotting_pdf(data_array_after, 30)[1]"
   ]
  },
  {
   "cell_type": "code",
   "execution_count": 46,
   "metadata": {},
   "outputs": [
    {
     "name": "stdout",
     "output_type": "stream",
     "text": [
      "[-2.050877   -1.87948086 -1.6391487  -1.21385909 -0.99941326 -0.65014409\n",
      " -0.34084156 -0.11932071  0.04915986  0.16720088  0.21652185  0.28571184\n",
      "  0.29547598  0.27842245  0.25364133  0.20888638  0.06628734 -0.06613197\n",
      " -0.19922419 -0.37640106 -0.54880246 -0.72072516 -1.050877   -1.33272367\n",
      " -1.88902618 -2.14429868 -3.06511743 -3.24120869 -3.54223869]\n"
     ]
    }
   ],
   "source": [
    "print(y_arr_before[:-1])"
   ]
  },
  {
   "cell_type": "code",
   "execution_count": 47,
   "metadata": {},
   "outputs": [
    {
     "name": "stdout",
     "output_type": "stream",
     "text": [
      "[-7.88661772e-01 -7.07174689e-01 -6.31843334e-01 -5.89370313e-01\n",
      " -4.77090130e-01 -3.75827810e-01 -3.00998871e-01 -2.14701647e-01\n",
      " -1.29912267e-01 -2.79281730e-02  7.34754707e-02  1.38680842e-01\n",
      "  2.21150230e-01  2.63083159e-01  3.01841524e-01  3.29122389e-01\n",
      "  3.24213205e-01  3.05379057e-01  2.65821409e-01  1.79235619e-01\n",
      "  1.24448050e-03 -1.42742468e-01 -3.01346168e-01 -4.77611179e-01\n",
      " -6.90686005e-01 -1.03652834e+00 -1.40703011e+00 -1.93585818e+00\n",
      " -2.28431283e+00]\n"
     ]
    }
   ],
   "source": [
    "print(y_arr_after[:-1])"
   ]
  },
  {
   "cell_type": "code",
   "execution_count": 48,
   "metadata": {},
   "outputs": [
    {
     "data": {
      "image/png": "[encoded data removed]",
      "text/plain": [
       "<Figure size 432x288 with 1 Axes>"
      ]
     },
     "metadata": {
      "needs_background": "light"
     },
     "output_type": "display_data"
    },
    {
     "data": {
      "image/png": "[encoded data removed]",
      "text/plain": [
       "<Figure size 432x288 with 1 Axes>"
      ]
     },
     "metadata": {
      "needs_background": "light"
     },
     "output_type": "display_data"
    },
    {
     "name": "stdout",
     "output_type": "stream",
     "text": [
      "22.69507129174916\n"
     ]
    },
    {
     "data": {
      "image/png": "[encoded data removed]",
      "text/plain": [
       "<Figure size 432x288 with 1 Axes>"
      ]
     },
     "metadata": {
      "needs_background": "light"
     },
     "output_type": "display_data"
    },
    {
     "data": {
      "image/png": "[encoded data removed]",
      "text/plain": [
       "<Figure size 432x288 with 1 Axes>"
      ]
     },
     "metadata": {
      "needs_background": "light"
     },
     "output_type": "display_data"
    },
    {
     "name": "stdout",
     "output_type": "stream",
     "text": [
      "22.74110225414935\n"
     ]
    }
   ],
   "source": [
    "x_min_before = spline_method(x_arr_before[10:], y_arr_before[10:-1])[0]\n",
    "print(x_min_before)\n",
    "\n",
    "x_min_after = spline_method(x_arr_after[14:], y_arr_after[14:-1])[0]\n",
    "print(x_min_after)"
   ]
  },
  {
   "cell_type": "code",
   "execution_count": 83,
   "metadata": {},
   "outputs": [
    {
     "name": "stdout",
     "output_type": "stream",
     "text": [
      "13\n",
      "30\n",
      "[ 0.06628734 -0.06613197 -0.19922419 -0.37640106 -0.54880246 -0.72072516\n",
      " -1.050877   -1.33272367 -1.88902618 -2.14429868 -3.06511743 -3.24120869\n",
      " -3.54223869]\n",
      "13\n"
     ]
    }
   ],
   "source": [
    "x_before_powerlaw_full = x_arr_before[(x_arr_before>x_min_before)]\n",
    "x_before_powerlaw = x_before_powerlaw_full\n",
    "print(len(x_before_powerlaw))\n",
    "print(len(y_arr_before))\n",
    "print(y_arr_before[16:-1])\n",
    "print(len(y_arr_before[16:-1]))\n",
    "y_before_powerlaw = y_arr_before[16:-1]"
   ]
  },
  {
   "cell_type": "code",
   "execution_count": 50,
   "metadata": {},
   "outputs": [
    {
     "name": "stdout",
     "output_type": "stream",
     "text": [
      "10\n",
      "30\n",
      "[ 1.79235619e-01  1.24448050e-03 -1.42742468e-01 -3.01346168e-01\n",
      " -4.77611179e-01 -6.90686005e-01 -1.03652834e+00 -1.40703011e+00\n",
      " -1.93585818e+00 -2.28431283e+00]\n",
      "10\n"
     ]
    }
   ],
   "source": [
    "x_after_powerlaw = x_arr_after[(x_arr_after>x_min_after)]\n",
    "print(len(x_after_powerlaw))\n",
    "print(len(y_arr_after))\n",
    "print(y_arr_after[19:-1])\n",
    "print(len(y_arr_after[19:-1]))\n",
    "y_after_powerlaw = y_arr_after[19:-1]"
   ]
  },
  {
   "cell_type": "code",
   "execution_count": 51,
   "metadata": {
    "scrolled": true
   },
   "outputs": [
    {
     "name": "stdout",
     "output_type": "stream",
     "text": [
      "1\n",
      "[ -5.94961203 135.84417182]\n",
      "1\n",
      "[ -6.73323408 153.79075081]\n"
     ]
    }
   ],
   "source": [
    "#MAKING PARAMETER GUESSES AND RUNNING FUNCTION\n",
    "alpha, beta = -2, 10\n",
    "afit_before, flag_before = optimize.leastsq(resid_log_powerlaw, [alpha, beta], args = (x_before_powerlaw, y_before_powerlaw))\n",
    "print(flag_before)\n",
    "print(afit_before)\n",
    "afit_after, flag_after = optimize.leastsq(resid_log_powerlaw, [alpha, beta], args = (x_after_powerlaw, y_after_powerlaw))\n",
    "print(flag_after)\n",
    "print(afit_after)"
   ]
  },
  {
   "cell_type": "code",
   "execution_count": 52,
   "metadata": {
    "scrolled": true
   },
   "outputs": [
    {
     "data": {
      "image/png": "[encoded data removed]",
      "text/plain": [
       "<Figure size 720x504 with 1 Axes>"
      ]
     },
     "metadata": {
      "needs_background": "light"
     },
     "output_type": "display_data"
    }
   ],
   "source": [
    "final_plot(x_arr_before, x_before_powerlaw, y_arr_before, x_arr_after, x_after_powerlaw, y_arr_after)"
   ]
  },
  {
   "cell_type": "code",
   "execution_count": 29,
   "metadata": {},
   "outputs": [
    {
     "data": {
      "image/png": "[encoded data removed]",
      "text/plain": [
       "<Figure size 432x288 with 1 Axes>"
      ]
     },
     "metadata": {
      "needs_background": "light"
     },
     "output_type": "display_data"
    }
   ],
   "source": [
    "res = stats.linregress(x_before_powerlaw, y_before_powerlaw)\n",
    "plt.plot(x_arr_before, y_arr_before[:-1], 'o', label='Before')\n",
    "plt.plot(x_before_powerlaw, res.intercept + res.slope*x_before_powerlaw, 'r', label='fit')\n",
    "plt.legend()\n",
    "plt.show()"
   ]
  },
  {
   "cell_type": "code",
   "execution_count": 23,
   "metadata": {},
   "outputs": [
    {
     "name": "stdout",
     "output_type": "stream",
     "text": [
      "-5.949612263693819\n",
      "0.4316123357997002\n"
     ]
    }
   ],
   "source": [
    "print(res.slope)\n",
    "print(res.stderr)"
   ]
  },
  {
   "cell_type": "code",
   "execution_count": 208,
   "metadata": {},
   "outputs": [],
   "source": [
    "#FITTING FUNCTION SIMILAR TO OLD METHOD USING SPILKER EQ 5 AND 6\n",
    "def resid_log_piecewise(avec, x, y, b):\n",
    "    A, sigma, mu, alpha, beta = avec\n",
    "    R = np.zeros_like(x)\n",
    "    cond1 = np.where(x<b)\n",
    "    cond2 = np.where(x>b)\n",
    "    R[cond1] = ((A)/((sigma)*np.sqrt(2*np.pi)*np.exp(x[cond1])))*np.exp((-(x[cond1]-mu)**2)/(2*sigma**2)) - y[cond1]\n",
    "    R[cond2] = (alpha*x) + beta - y[cond2]\n",
    "    return R"
   ]
  },
  {
   "cell_type": "code",
   "execution_count": 140,
   "metadata": {},
   "outputs": [],
   "source": [
    "def fit_piecewise(afit, x):\n",
    "    yfit = np.zeros_like(x)\n",
    "    cond1 = np.where(x<afit[0])\n",
    "    cond2 = np.where(x>=afit[0])\n",
    "    yfit[cond1] = ((afit[0])/(afit[1]*np.sqrt(2*np.pi)*np.exp(x[cond1])*np.exp(x[cond1])))*np.exp((-(x[cond1]-afit[3])**2)/(2*afit[2]**2))\n",
    "    yfit[cond2] = (afit[4]*x[cond2]) + afit[5]\n",
    "    return yfit"
   ]
  },
  {
   "cell_type": "code",
   "execution_count": 144,
   "metadata": {
    "collapsed": true
   },
   "outputs": [
    {
     "ename": "ValueError",
     "evalue": "operands could not be broadcast together with shapes (27,) (0,) ",
     "output_type": "error",
     "traceback": [
      "\u001b[0;31m---------------------------------------------------------------------------\u001b[0m",
      "\u001b[0;31mValueError\u001b[0m                                Traceback (most recent call last)",
      "\u001b[0;32m<ipython-input-144-ca6f6a3477b3>\u001b[0m in \u001b[0;36m<module>\u001b[0;34m\u001b[0m\n\u001b[1;32m      1\u001b[0m \u001b[0mA\u001b[0m\u001b[0;34m,\u001b[0m \u001b[0msigma\u001b[0m\u001b[0;34m,\u001b[0m \u001b[0mmu\u001b[0m\u001b[0;34m,\u001b[0m \u001b[0malpha\u001b[0m\u001b[0;34m,\u001b[0m \u001b[0mbeta\u001b[0m \u001b[0;34m=\u001b[0m \u001b[0;36m0.5\u001b[0m\u001b[0;34m,\u001b[0m \u001b[0;36m1\u001b[0m\u001b[0;34m,\u001b[0m \u001b[0;36m0.4\u001b[0m\u001b[0;34m,\u001b[0m \u001b[0;34m-\u001b[0m\u001b[0;36m5\u001b[0m\u001b[0;34m,\u001b[0m \u001b[0;36m100\u001b[0m\u001b[0;34m\u001b[0m\u001b[0;34m\u001b[0m\u001b[0m\n\u001b[0;32m----> 2\u001b[0;31m \u001b[0mafit\u001b[0m\u001b[0;34m,\u001b[0m \u001b[0mflag\u001b[0m \u001b[0;34m=\u001b[0m \u001b[0moptimize\u001b[0m\u001b[0;34m.\u001b[0m\u001b[0mleastsq\u001b[0m\u001b[0;34m(\u001b[0m\u001b[0mresid_log_piecewise\u001b[0m\u001b[0;34m,\u001b[0m \u001b[0;34m[\u001b[0m\u001b[0mA\u001b[0m\u001b[0;34m,\u001b[0m \u001b[0msigma\u001b[0m\u001b[0;34m,\u001b[0m \u001b[0mmu\u001b[0m\u001b[0;34m,\u001b[0m \u001b[0malpha\u001b[0m\u001b[0;34m,\u001b[0m \u001b[0mbeta\u001b[0m\u001b[0;34m]\u001b[0m\u001b[0;34m,\u001b[0m \u001b[0margs\u001b[0m \u001b[0;34m=\u001b[0m \u001b[0;34m(\u001b[0m\u001b[0mx_arr\u001b[0m\u001b[0;34m[\u001b[0m\u001b[0;34m:\u001b[0m\u001b[0;34m-\u001b[0m\u001b[0;36m2\u001b[0m\u001b[0;34m]\u001b[0m\u001b[0;34m,\u001b[0m \u001b[0my_arr\u001b[0m\u001b[0;34m[\u001b[0m\u001b[0;34m:\u001b[0m\u001b[0;34m-\u001b[0m\u001b[0;36m3\u001b[0m\u001b[0;34m]\u001b[0m\u001b[0;34m,\u001b[0m \u001b[0mx_min_before\u001b[0m\u001b[0;34m)\u001b[0m\u001b[0;34m)\u001b[0m\u001b[0;34m\u001b[0m\u001b[0;34m\u001b[0m\u001b[0m\n\u001b[0m\u001b[1;32m      3\u001b[0m \u001b[0mprint\u001b[0m\u001b[0;34m(\u001b[0m\u001b[0mflag\u001b[0m\u001b[0;34m)\u001b[0m\u001b[0;34m\u001b[0m\u001b[0;34m\u001b[0m\u001b[0m\n\u001b[1;32m      4\u001b[0m \u001b[0mprint\u001b[0m\u001b[0;34m(\u001b[0m\u001b[0mafit\u001b[0m\u001b[0;34m)\u001b[0m\u001b[0;34m\u001b[0m\u001b[0;34m\u001b[0m\u001b[0m\n",
      "\u001b[0;32m/Applications/anaconda3/lib/python3.7/site-packages/scipy/optimize/minpack.py\u001b[0m in \u001b[0;36mleastsq\u001b[0;34m(func, x0, args, Dfun, full_output, col_deriv, ftol, xtol, gtol, maxfev, epsfcn, factor, diag)\u001b[0m\n\u001b[1;32m    381\u001b[0m     \u001b[0;32mif\u001b[0m \u001b[0;32mnot\u001b[0m \u001b[0misinstance\u001b[0m\u001b[0;34m(\u001b[0m\u001b[0margs\u001b[0m\u001b[0;34m,\u001b[0m \u001b[0mtuple\u001b[0m\u001b[0;34m)\u001b[0m\u001b[0;34m:\u001b[0m\u001b[0;34m\u001b[0m\u001b[0;34m\u001b[0m\u001b[0m\n\u001b[1;32m    382\u001b[0m         \u001b[0margs\u001b[0m \u001b[0;34m=\u001b[0m \u001b[0;34m(\u001b[0m\u001b[0margs\u001b[0m\u001b[0;34m,\u001b[0m\u001b[0;34m)\u001b[0m\u001b[0;34m\u001b[0m\u001b[0;34m\u001b[0m\u001b[0m\n\u001b[0;32m--> 383\u001b[0;31m     \u001b[0mshape\u001b[0m\u001b[0;34m,\u001b[0m \u001b[0mdtype\u001b[0m \u001b[0;34m=\u001b[0m \u001b[0m_check_func\u001b[0m\u001b[0;34m(\u001b[0m\u001b[0;34m'leastsq'\u001b[0m\u001b[0;34m,\u001b[0m \u001b[0;34m'func'\u001b[0m\u001b[0;34m,\u001b[0m \u001b[0mfunc\u001b[0m\u001b[0;34m,\u001b[0m \u001b[0mx0\u001b[0m\u001b[0;34m,\u001b[0m \u001b[0margs\u001b[0m\u001b[0;34m,\u001b[0m \u001b[0mn\u001b[0m\u001b[0;34m)\u001b[0m\u001b[0;34m\u001b[0m\u001b[0;34m\u001b[0m\u001b[0m\n\u001b[0m\u001b[1;32m    384\u001b[0m     \u001b[0mm\u001b[0m \u001b[0;34m=\u001b[0m \u001b[0mshape\u001b[0m\u001b[0;34m[\u001b[0m\u001b[0;36m0\u001b[0m\u001b[0;34m]\u001b[0m\u001b[0;34m\u001b[0m\u001b[0;34m\u001b[0m\u001b[0m\n\u001b[1;32m    385\u001b[0m \u001b[0;34m\u001b[0m\u001b[0m\n",
      "\u001b[0;32m/Applications/anaconda3/lib/python3.7/site-packages/scipy/optimize/minpack.py\u001b[0m in \u001b[0;36m_check_func\u001b[0;34m(checker, argname, thefunc, x0, args, numinputs, output_shape)\u001b[0m\n\u001b[1;32m     24\u001b[0m def _check_func(checker, argname, thefunc, x0, args, numinputs,\n\u001b[1;32m     25\u001b[0m                 output_shape=None):\n\u001b[0;32m---> 26\u001b[0;31m     \u001b[0mres\u001b[0m \u001b[0;34m=\u001b[0m \u001b[0matleast_1d\u001b[0m\u001b[0;34m(\u001b[0m\u001b[0mthefunc\u001b[0m\u001b[0;34m(\u001b[0m\u001b[0;34m*\u001b[0m\u001b[0;34m(\u001b[0m\u001b[0;34m(\u001b[0m\u001b[0mx0\u001b[0m\u001b[0;34m[\u001b[0m\u001b[0;34m:\u001b[0m\u001b[0mnuminputs\u001b[0m\u001b[0;34m]\u001b[0m\u001b[0;34m,\u001b[0m\u001b[0;34m)\u001b[0m \u001b[0;34m+\u001b[0m \u001b[0margs\u001b[0m\u001b[0;34m)\u001b[0m\u001b[0;34m)\u001b[0m\u001b[0;34m)\u001b[0m\u001b[0;34m\u001b[0m\u001b[0;34m\u001b[0m\u001b[0m\n\u001b[0m\u001b[1;32m     27\u001b[0m     \u001b[0;32mif\u001b[0m \u001b[0;34m(\u001b[0m\u001b[0moutput_shape\u001b[0m \u001b[0;32mis\u001b[0m \u001b[0;32mnot\u001b[0m \u001b[0;32mNone\u001b[0m\u001b[0;34m)\u001b[0m \u001b[0;32mand\u001b[0m \u001b[0;34m(\u001b[0m\u001b[0mshape\u001b[0m\u001b[0;34m(\u001b[0m\u001b[0mres\u001b[0m\u001b[0;34m)\u001b[0m \u001b[0;34m!=\u001b[0m \u001b[0moutput_shape\u001b[0m\u001b[0;34m)\u001b[0m\u001b[0;34m:\u001b[0m\u001b[0;34m\u001b[0m\u001b[0;34m\u001b[0m\u001b[0m\n\u001b[1;32m     28\u001b[0m         \u001b[0;32mif\u001b[0m \u001b[0;34m(\u001b[0m\u001b[0moutput_shape\u001b[0m\u001b[0;34m[\u001b[0m\u001b[0;36m0\u001b[0m\u001b[0;34m]\u001b[0m \u001b[0;34m!=\u001b[0m \u001b[0;36m1\u001b[0m\u001b[0;34m)\u001b[0m\u001b[0;34m:\u001b[0m\u001b[0;34m\u001b[0m\u001b[0;34m\u001b[0m\u001b[0m\n",
      "\u001b[0;32m<ipython-input-141-fa4e9883aca3>\u001b[0m in \u001b[0;36mresid_log_piecewise\u001b[0;34m(avec, x, y, b)\u001b[0m\n\u001b[1;32m      6\u001b[0m     \u001b[0mcond2\u001b[0m \u001b[0;34m=\u001b[0m \u001b[0mnp\u001b[0m\u001b[0;34m.\u001b[0m\u001b[0mwhere\u001b[0m\u001b[0;34m(\u001b[0m\u001b[0mx\u001b[0m\u001b[0;34m>\u001b[0m\u001b[0mb\u001b[0m\u001b[0;34m)\u001b[0m\u001b[0;34m\u001b[0m\u001b[0;34m\u001b[0m\u001b[0m\n\u001b[1;32m      7\u001b[0m     \u001b[0mR\u001b[0m\u001b[0;34m[\u001b[0m\u001b[0mcond1\u001b[0m\u001b[0;34m]\u001b[0m \u001b[0;34m=\u001b[0m \u001b[0;34m(\u001b[0m\u001b[0;34m(\u001b[0m\u001b[0mA\u001b[0m\u001b[0;34m)\u001b[0m\u001b[0;34m/\u001b[0m\u001b[0;34m(\u001b[0m\u001b[0;34m(\u001b[0m\u001b[0msigma\u001b[0m\u001b[0;34m)\u001b[0m\u001b[0;34m*\u001b[0m\u001b[0mnp\u001b[0m\u001b[0;34m.\u001b[0m\u001b[0msqrt\u001b[0m\u001b[0;34m(\u001b[0m\u001b[0;36m2\u001b[0m\u001b[0;34m*\u001b[0m\u001b[0mnp\u001b[0m\u001b[0;34m.\u001b[0m\u001b[0mpi\u001b[0m\u001b[0;34m)\u001b[0m\u001b[0;34m*\u001b[0m\u001b[0mnp\u001b[0m\u001b[0;34m.\u001b[0m\u001b[0mexp\u001b[0m\u001b[0;34m(\u001b[0m\u001b[0mx\u001b[0m\u001b[0;34m[\u001b[0m\u001b[0mcond1\u001b[0m\u001b[0;34m]\u001b[0m\u001b[0;34m)\u001b[0m\u001b[0;34m)\u001b[0m\u001b[0;34m)\u001b[0m\u001b[0;34m*\u001b[0m\u001b[0mnp\u001b[0m\u001b[0;34m.\u001b[0m\u001b[0mexp\u001b[0m\u001b[0;34m(\u001b[0m\u001b[0;34m(\u001b[0m\u001b[0;34m-\u001b[0m\u001b[0;34m(\u001b[0m\u001b[0mx\u001b[0m\u001b[0;34m[\u001b[0m\u001b[0mcond1\u001b[0m\u001b[0;34m]\u001b[0m\u001b[0;34m-\u001b[0m\u001b[0mmu\u001b[0m\u001b[0;34m)\u001b[0m\u001b[0;34m**\u001b[0m\u001b[0;36m2\u001b[0m\u001b[0;34m)\u001b[0m\u001b[0;34m/\u001b[0m\u001b[0;34m(\u001b[0m\u001b[0;36m2\u001b[0m\u001b[0;34m*\u001b[0m\u001b[0msigma\u001b[0m\u001b[0;34m**\u001b[0m\u001b[0;36m2\u001b[0m\u001b[0;34m)\u001b[0m\u001b[0;34m)\u001b[0m \u001b[0;34m-\u001b[0m \u001b[0my\u001b[0m\u001b[0;34m[\u001b[0m\u001b[0mcond1\u001b[0m\u001b[0;34m]\u001b[0m\u001b[0;34m\u001b[0m\u001b[0;34m\u001b[0m\u001b[0m\n\u001b[0;32m----> 8\u001b[0;31m     \u001b[0mR\u001b[0m\u001b[0;34m[\u001b[0m\u001b[0mcond2\u001b[0m\u001b[0;34m]\u001b[0m \u001b[0;34m=\u001b[0m \u001b[0;34m(\u001b[0m\u001b[0malpha\u001b[0m\u001b[0;34m*\u001b[0m\u001b[0mx\u001b[0m\u001b[0;34m)\u001b[0m \u001b[0;34m+\u001b[0m \u001b[0mbeta\u001b[0m \u001b[0;34m-\u001b[0m \u001b[0my\u001b[0m\u001b[0;34m[\u001b[0m\u001b[0mcond2\u001b[0m\u001b[0;34m]\u001b[0m\u001b[0;34m\u001b[0m\u001b[0;34m\u001b[0m\u001b[0m\n\u001b[0m\u001b[1;32m      9\u001b[0m     \u001b[0;32mreturn\u001b[0m \u001b[0mR\u001b[0m\u001b[0;34m\u001b[0m\u001b[0;34m\u001b[0m\u001b[0m\n",
      "\u001b[0;31mValueError\u001b[0m: operands could not be broadcast together with shapes (27,) (0,) "
     ]
    }
   ],
   "source": [
    "A, sigma, mu, alpha, beta = 0.5, 1, 0.4, -5, 100\n",
    "afit, flag = optimize.leastsq(resid_log_piecewise, [A, sigma, mu, alpha, beta], args = (x_arr[:-2], y_arr[:-3], x_min_before))\n",
    "print(flag)\n",
    "print(afit)"
   ]
  },
  {
   "cell_type": "code",
   "execution_count": 57,
   "metadata": {},
   "outputs": [],
   "source": [
    "def resid_log_piecewise_test(params, x, y, sigma):\n",
    "    R = np.zeros_like(x)\n",
    "    cond1 = np.where(x<b)\n",
    "    cond2 = np.where(x>b)\n",
    "    R[cond1] = ((params['amp'])/((sigma)*np.sqrt(2*np.pi)*np.exp(x[cond1])))*np.exp((-(x[cond1]-params['mu'])**2)/(2*sigma**2)) - y[cond1]\n",
    "    R[cond2] = (params['alpha']*x[cond2]) + params['beta'] - y[cond2]\n",
    "    return R"
   ]
  },
  {
   "cell_type": "code",
   "execution_count": 179,
   "metadata": {},
   "outputs": [],
   "source": [
    "def residual_piecewise(params, x, sigma = None, data = None):\n",
    "    cond1 = np.where(x<params['b'])\n",
    "    cond2 = np.where(x>params['b'])\n",
    "    y_ln = ((params['amp'])/((params['std'])*np.sqrt(2*np.pi)*np.exp(x[cond1])))*np.exp((-(x[cond1]-params['mu'])**2)/(2*params['std']**2))\n",
    "    y_pl = (params['alpha']*x[cond2]) + params['beta']\n",
    "    \n",
    "    model = np.concatenate((y_ln, y_pl))\n",
    "    \n",
    "    if data is None:\n",
    "        return model\n",
    "    if sigma is None:\n",
    "        return model-data\n",
    "    return (model-data) / sigma"
   ]
  },
  {
   "cell_type": "code",
   "execution_count": 176,
   "metadata": {},
   "outputs": [],
   "source": [
    "params = Parameters()\n",
    "params.add(name = 'amp', value = 10)\n",
    "params.add(name = 'mu', value = 10)\n",
    "params.add(name = 'alpha', value = -6)\n",
    "params.add(name = 'beta', value = 135)\n",
    "params.add(name = 'b', value = 22.69)\n",
    "params.add(name = 'std', value = 10)\n",
    "#params.add(name = 'b', expr = '((amp)/(np.sqrt(2*np.pi)*np.exp(x[cond1])))*np.exp((-(x[cond1]-mu)**2)/(2*sigma**2)) - y[cond1] - (alpha*x[cond2]) - beta + y[cond2]')"
   ]
  },
  {
   "cell_type": "code",
   "execution_count": 182,
   "metadata": {},
   "outputs": [],
   "source": [
    "my_fit = Minimizer(residual_piecewise, params, fcn_args=(x_arr_before,), fcn_kws={'sigma':None, 'data': y_arr_before[:-1]})\n",
    "results = my_fit.minimize()"
   ]
  },
  {
   "cell_type": "code",
   "execution_count": 184,
   "metadata": {},
   "outputs": [
    {
     "name": "stdout",
     "output_type": "stream",
     "text": [
      "[[Fit Statistics]]\n",
      "    # fitting method   = leastsq\n",
      "    # function evals   = 293\n",
      "    # data points      = 29\n",
      "    # variables        = 6\n",
      "    chi-square         = 1.78334289\n",
      "    reduced chi-square = 0.07753665\n",
      "    Akaike info crit   = -68.8753797\n",
      "    Bayesian info crit = -60.6716048\n",
      "##  Warning: uncertainties could not be estimated:\n",
      "    b:      at initial value\n",
      "[[Variables]]\n",
      "    amp:   -2.7104e+09 (init = 10)\n",
      "    mu:     21.9286808 (init = 10)\n",
      "    alpha: -5.62035865 (init = -6)\n",
      "    beta:   128.214398 (init = 135)\n",
      "    b:      22.6900000 (init = 22.69)\n",
      "    std:    0.16354924 (init = 10)\n"
     ]
    }
   ],
   "source": [
    "report_fit(results)"
   ]
  },
  {
   "cell_type": "code",
   "execution_count": 183,
   "metadata": {},
   "outputs": [
    {
     "name": "stdout",
     "output_type": "stream",
     "text": [
      "Name      Value      Min      Max   Stderr     Vary     Expr Brute_Step\n",
      "alpha     -5.62     -inf      inf     None     True     None     None\n",
      "amp    -2.71e+09     -inf      inf     None     True     None     None\n",
      "b         22.69     -inf      inf     None     True     None     None\n",
      "beta      128.2     -inf      inf     None     True     None     None\n",
      "mu        21.93     -inf      inf     None     True     None     None\n",
      "std      0.1635     -inf      inf     None     True     None     None\n"
     ]
    }
   ],
   "source": [
    "results.params.pretty_print()"
   ]
  },
  {
   "cell_type": "code",
   "execution_count": 163,
   "metadata": {},
   "outputs": [],
   "source": [
    "def residual_powerlaw(params, x, sigma = None, data = None):\n",
    "    R = (params['alpha']*x) + params['beta']\n",
    "    model = R\n",
    "    if data is None:\n",
    "        return model\n",
    "    if sigma is None:\n",
    "        return model-data\n",
    "    return (model-data) / sigma"
   ]
  },
  {
   "cell_type": "code",
   "execution_count": 169,
   "metadata": {},
   "outputs": [],
   "source": [
    "params = Parameters()\n",
    "params.add(name = 'alpha', value = -4)\n",
    "params.add(name = 'beta', value = 120)"
   ]
  },
  {
   "cell_type": "code",
   "execution_count": 170,
   "metadata": {},
   "outputs": [],
   "source": [
    "my_fit2 = Minimizer(residual_powerlaw, params, fcn_args=(x_before_powerlaw,), fcn_kws={'sigma':None, 'data': y_before_powerlaw})\n",
    "result = my_fit2.minimize()"
   ]
  },
  {
   "cell_type": "code",
   "execution_count": 171,
   "metadata": {},
   "outputs": [
    {
     "name": "stdout",
     "output_type": "stream",
     "text": [
      "[[Fit Statistics]]\n",
      "    # fitting method   = leastsq\n",
      "    # function evals   = 7\n",
      "    # data points      = 13\n",
      "    # variables        = 2\n",
      "    chi-square         = 1.05479798\n",
      "    reduced chi-square = 0.09589073\n",
      "    Akaike info crit   = -28.6508013\n",
      "    Bayesian info crit = -27.5209026\n",
      "[[Variables]]\n",
      "    alpha: -5.94961236 +/- 0.43161235 (7.25%) (init = -4)\n",
      "    beta:   135.844179 +/- 9.95619747 (7.33%) (init = 120)\n",
      "[[Correlations]] (unreported correlations are < 0.100)\n",
      "    C(alpha, beta) = -1.000\n"
     ]
    }
   ],
   "source": [
    "final = y_before_powerlaw + result.residual\n",
    "report_fit(result)"
   ]
  },
  {
   "cell_type": "code",
   "execution_count": 168,
   "metadata": {},
   "outputs": [
    {
     "name": "stdout",
     "output_type": "stream",
     "text": [
      "Name      Value      Min      Max   Stderr     Vary     Expr Brute_Step\n",
      "alpha     -5.95     -inf      inf   0.4316     True     None     None\n",
      "beta      135.8     -inf      inf    9.956     True     None     None\n"
     ]
    }
   ],
   "source": [
    "result.params.pretty_print()"
   ]
  },
  {
   "cell_type": "code",
   "execution_count": null,
   "metadata": {},
   "outputs": [],
   "source": []
  }
 ],
 "metadata": {
  "kernelspec": {
   "display_name": "Python 3",
   "language": "python",
   "name": "python3"
  },
  "language_info": {
   "codemirror_mode": {
    "name": "ipython",
    "version": 3
   },
   "file_extension": ".py",
   "mimetype": "text/x-python",
   "name": "python",
   "nbconvert_exporter": "python",
   "pygments_lexer": "ipython3",
   "version": "3.7.4"
  }
 },
 "nbformat": 4,
 "nbformat_minor": 2
}
