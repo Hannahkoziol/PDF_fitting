{
 "cells": [
  {
   "cell_type": "code",
   "execution_count": 2,
   "metadata": {},
   "outputs": [],
   "source": [
    "import aplpy\n",
    "import os\n",
    "from astropy.io import fits\n",
    "import numpy as np\n",
    "import matplotlib.pyplot as plt\n",
    "from astropy import units as u\n",
    "from astropy.convolution import convolve_fft, Gaussian2DKernel\n",
    "import math \n",
    "from astropy import units as u\n",
    "from scipy.interpolate import UnivariateSpline\n",
    "import scipy.optimize as optimize\n",
    "from scipy.interpolate import interp1d\n",
    "import sys\n",
    "from numpy.random import rand,seed\n",
    "from pylab import *"
   ]
  },
  {
   "cell_type": "code",
   "execution_count": 3,
   "metadata": {},
   "outputs": [],
   "source": [
    "#LOADING IN DATA FILES\n",
    "after_B1_000 = fits.open('/Users/hannahkoziol/Dropbox/Research/flux_trials/n_dens_pbcor/N_dens_feather10_B1_000_clean14_1_pbcor.fits')\n",
    "before_B1_000 = fits.open('/Users/hannahkoziol/Dropbox/Research/flux_trials/N_dens/N_dens_B1snap_000.fits')\n",
    "after_B1_051 = fits.open('/Users/hannahkoziol/Dropbox/Research/flux_trials/n_dens_pbcor/N_dens_feather10_B1_051_clean14_pbcor.fits')\n",
    "before_B1_051 = fits.open('/Users/hannahkoziol/Dropbox/Research/flux_trials/N_dens/N_dens_B1snap_051.fits')\n",
    "after_B10_000 = fits.open('/Users/hannahkoziol/Dropbox/Research/flux_trials/n_dens_pbcor/N_dens_feather10_B10_000_clean14_pbcor.fits')\n",
    "before_B10_000 = fits.open('/Users/hannahkoziol/Dropbox/Research/flux_trials/N_dens/N_dens_B10snap_000.fits')\n",
    "after_B10_066 = fits.open('/Users/hannahkoziol/Dropbox/Research/flux_trials/n_dens_pbcor/N_dens_feather10_B10_066_clean14_pbcor.fits')\n",
    "before_B10_066 = fits.open('/Users/hannahkoziol/Dropbox/Research/flux_trials/N_dens/N_dens_B10snap_066.fits')\n",
    "noise_B1_000 = fits.open('/Users/hannahkoziol/Dropbox/Research/flux_trials/flux10_noise_final/flux10_B1snap_000_clean14_1_noise_finalfwhm.fits')\n",
    "noise_B1_051 = fits.open('/Users/hannahkoziol/Dropbox/Research/flux_trials/flux10_noise_final/flux10_B1snap_051_clean14_noise_finalfwhm.fits')\n",
    "noise_B10_000 = fits.open('/Users/hannahkoziol/Dropbox/Research/flux_trials/flux10_noise_final/flux10_B10snap_000_clean14_noise_finalfwhm.fits')\n",
    "noise_B10_066 = fits.open('/Users/hannahkoziol/Dropbox/Research/flux_trials/flux10_noise_final/flux10_B10snap_066_clean14_noise_finalfwhm.fits')"
   ]
  },
  {
   "cell_type": "code",
   "execution_count": 4,
   "metadata": {},
   "outputs": [],
   "source": [
    "#SIMULATED OBSERVATIONAL DATA\n",
    "def simulated_data_retrieval(sim_self):\n",
    "    sim_self = sim_self[0].data\n",
    "    column_density_array_after = sim_self\n",
    "    flat_column_density_array_after = column_density_array_after.flatten()\n",
    "    return flat_column_density_array_after"
   ]
  },
  {
   "cell_type": "code",
   "execution_count": 5,
   "metadata": {},
   "outputs": [],
   "source": [
    "#ORIGINAL SIMULATION DATA\n",
    "def original_data_retrieval(snap_self):\n",
    "    snap_self = snap_self[0].data * 10\n",
    "    column_density_array_before = snap_self / (1e4)\n",
    "    flat_column_density_array_before = column_density_array_before.flatten()\n",
    "    return flat_column_density_array_before"
   ]
  },
  {
   "cell_type": "code",
   "execution_count": 6,
   "metadata": {},
   "outputs": [],
   "source": [
    "#HISTOGRAMS FOR SPLINE\n",
    "def histogram_before_fit(column_density_before, column_density_after):\n",
    "    fig, ax = plt.subplots()\n",
    "    plt.hist(column_density_before, bins=np.logspace(22, 23.5, 30), histtype = 'step', log=True, label = \"Before Observation and Cleaning\", color='firebrick', alpha=0.99)\n",
    "    before_hist = plt.hist(column_density_before, bins=np.logspace(22, 23.5, 30), log=True, color='firebrick', alpha=0.3)\n",
    "    plt.hist(column_density_after, bins=np.logspace(22, 23.5, 30), histtype = 'step', log=True, label = \"After Observation and Cleaning\", color='cornflowerblue', alpha=0.99)\n",
    "    after_hist = plt.hist(column_density_after, bins=np.logspace(22, 23.5, 30), log=True, color='cornflowerblue', alpha=0.3)\n",
    "    ax.set_xscale('log')\n",
    "    plt.xlabel('$Log_{10}$ Column Density $\\#/cm^2$')\n",
    "    plt.ylabel('$Log_{10} Frequency$')\n",
    "    plt.legend(loc = 'lower left')\n",
    "    plt.close()\n",
    "    \n",
    "    before_x = before_hist[1]\n",
    "    before_mid = [(a + b) /2 for a,b in zip(before_x[:-1], before_x[1:])]\n",
    "    before_y = before_hist[0]\n",
    "    x_before_x = np.array(before_mid)\n",
    "    y_before_y = np.array(before_y)\n",
    "\n",
    "    after_x = after_hist[1]\n",
    "    after_mid = [(a + b) /2 for a,b in zip(after_x[:-1], after_x[1:])]\n",
    "    after_y = after_hist[0]\n",
    "    x_after_x = np.array(after_mid)\n",
    "    y_after_y = np.array(after_y)\n",
    "    \n",
    "    return x_before_x, y_before_y, x_after_x, y_after_y"
   ]
  },
  {
   "cell_type": "code",
   "execution_count": 7,
   "metadata": {},
   "outputs": [],
   "source": [
    "#COMBINING THESE FUNCTIONS\n",
    "def histogram_harvesting(before_data, after_data):\n",
    "    after_data_flat_array = simulated_data_retrieval(after_data)\n",
    "    before_data_flat_array = original_data_retrieval(before_data)\n",
    "    return histogram_before_fit(before_data_flat_array, after_data_flat_array)"
   ]
  },
  {
   "cell_type": "code",
   "execution_count": 8,
   "metadata": {},
   "outputs": [],
   "source": [
    "#SPLINE FITTING ROUTINE\n",
    "def spline_method(x_data, y_data):\n",
    "    spl = UnivariateSpline(x_data, np.log(y_data), k = 1, s = .03)\n",
    "    x_num_array = np.linspace(min(x_data), max(x_data), 500)\n",
    "    deriv = spl.derivative(1)\n",
    "\n",
    "    plt.plot(x_data, y_data, label = 'Data' )\n",
    "    plt.plot(x_num_array, np.exp(spl(x_num_array)), label = 'Fit', linestyle = ':', color = 'red')\n",
    "    plt.legend()\n",
    "    plt.show()\n",
    "    \n",
    "    plt.plot(x_num_array, deriv(x_num_array), label = '1st Derivative')\n",
    "    plt.xscale('log')\n",
    "    plt.legend()\n",
    "    plt.show()\n",
    "    \n",
    "    max_deriv = deriv(x_num_array)[1]\n",
    "    x_min_value = x_num_array[np.argwhere(deriv(x_num_array) < max_deriv)][0]\n",
    "    \n",
    "    \n",
    "    return x_min_value"
   ]
  },
  {
   "cell_type": "code",
   "execution_count": 138,
   "metadata": {},
   "outputs": [],
   "source": [
    "#CREATING PLOTS OF DATA\n",
    "def create_histogram(image_data, number_of_bins):\n",
    "    image = np.log10(image_data)\n",
    "    n_min = np.min(image)\n",
    "    n_max = np.max(image)\n",
    "    n_bins = number_of_bins\n",
    "    n_total = np.count_nonzero(image)\n",
    "    n_edges = np.linspace(n_min, n_max, n_bins)\n",
    "    n_cens = [(a + b) /2 for a,b in zip(n_edges[:-1], n_edges[1:])]\n",
    "    \n",
    "    bin_width = n_edges[2] - n_edges[1]\n",
    "    \n",
    "    x_arr = np.array(n_cens)\n",
    "    y_arr = np.zeros(n_bins)\n",
    "    for i in range(n_bins -1):\n",
    "        pix_in_bin_i = np.where((image>n_edges[i]) & (image<n_edges[i+1]))[0]\n",
    "        y_arr[i] = np.array(np.count_nonzero(pix_in_bin_i) * ((n_total)**(-1)) * ((bin_width)**(-1)))\n",
    "        \n",
    "    normalization = y_arr * bin_width\n",
    "    normalization_check = np.sum(normalization)\n",
    "        \n",
    "    return x_arr, y_arr, normalization_check"
   ]
  },
  {
   "cell_type": "code",
   "execution_count": 139,
   "metadata": {},
   "outputs": [
    {
     "data": {
      "text/plain": [
       "(array([22.66297273, 22.68926395, 22.71555517, 22.74184639, 22.76813761,\n",
       "        22.79442883, 22.82072005, 22.84701127, 22.87330249, 22.89959371,\n",
       "        22.92588493, 22.95217615, 22.97846737, 23.00475859, 23.03104981,\n",
       "        23.05734103, 23.08363225, 23.10992347, 23.13621469, 23.16250591,\n",
       "        23.18879713, 23.21508835, 23.24137957, 23.26767079, 23.29396201,\n",
       "        23.32025323, 23.34654445, 23.37283567, 23.39912689]),\n",
       " array([5.49488059e+00, 5.41543208e+00, 4.57106072e+00, 3.81907135e+00,\n",
       "        3.28879874e+00, 2.82688880e+00, 2.32433079e+00, 2.06935651e+00,\n",
       "        1.86796378e+00, 1.39312037e+00, 1.12521260e+00, 9.73706144e-01,\n",
       "        7.55684654e-01, 6.50369189e-01, 5.00710370e-01, 3.10403477e-01,\n",
       "        2.21716769e-01, 1.77373415e-01, 1.07163105e-01, 5.54291922e-02,\n",
       "        2.58669564e-02, 2.77145961e-02, 1.84763974e-02, 1.84763974e-03,\n",
       "        1.84763974e-03, 1.84763974e-03, 1.84763974e-03, 0.00000000e+00,\n",
       "        1.84763974e-03, 0.00000000e+00]),\n",
       " 0.9998542698921594)"
      ]
     },
     "execution_count": 139,
     "metadata": {},
     "output_type": "execute_result"
    }
   ],
   "source": [
    "create_histogram(data_array[(data_array > x_min_before)], 30)"
   ]
  },
  {
   "cell_type": "code",
   "execution_count": 23,
   "metadata": {},
   "outputs": [],
   "source": [
    "def plotting_histogram(image_data, number_of_bins):\n",
    "    x_arr = create_histogram(image_data, number_of_bins)[0]\n",
    "    y_arr = np.log10(create_histogram(image_data, number_of_bins)[1])\n",
    "    plt.scatter(x_arr, y_arr[:-1])\n",
    "    return x_arr, y_arr"
   ]
  },
  {
   "cell_type": "code",
   "execution_count": 16,
   "metadata": {},
   "outputs": [],
   "source": [
    "before = before_B1_000\n",
    "after = after_B1_000\n",
    "noise = noise_B1_000\n",
    "title = 'B1 000'\n",
    "\n",
    "x_before_x = histogram_harvesting(before, after)[0]\n",
    "y_before_y = histogram_harvesting(before, after)[1]\n",
    "x_after_x = histogram_harvesting(before, after)[2]\n",
    "y_after_y = histogram_harvesting(before, after)[3]"
   ]
  },
  {
   "cell_type": "code",
   "execution_count": 12,
   "metadata": {},
   "outputs": [
    {
     "name": "stdout",
     "output_type": "stream",
     "text": [
      "[1.220e+02 2.420e+02 4.490e+02 1.022e+03 1.832e+03 2.933e+03 4.150e+03\n",
      " 5.126e+03 5.813e+03 6.614e+03 6.664e+03 6.391e+03 6.037e+03 5.400e+03\n",
      " 3.880e+03 2.898e+03 2.152e+03 1.450e+03 9.780e+02 6.720e+02 3.260e+02\n",
      " 1.790e+02 6.300e+01 2.300e+01 6.000e+00 2.000e+00 2.000e+00 1.000e+00\n",
      " 0.000e+00]\n"
     ]
    }
   ],
   "source": [
    "print(y_before_y)"
   ]
  },
  {
   "cell_type": "code",
   "execution_count": 13,
   "metadata": {},
   "outputs": [
    {
     "data": {
      "image/png": "[encoded data removed]",
      "text/plain": [
       "<Figure size 432x288 with 1 Axes>"
      ]
     },
     "metadata": {
      "needs_background": "light"
     },
     "output_type": "display_data"
    },
    {
     "data": {
      "image/png": "[encoded data removed]",
      "text/plain": [
       "<Figure size 432x288 with 1 Axes>"
      ]
     },
     "metadata": {
      "needs_background": "light"
     },
     "output_type": "display_data"
    },
    {
     "name": "stdout",
     "output_type": "stream",
     "text": [
      "4.464995515365419e+22\n"
     ]
    },
    {
     "data": {
      "image/png": "[encoded data removed]",
      "text/plain": [
       "<Figure size 432x288 with 1 Axes>"
      ]
     },
     "metadata": {
      "needs_background": "light"
     },
     "output_type": "display_data"
    },
    {
     "data": {
      "image/png": "[encoded data removed]",
      "text/plain": [
       "<Figure size 432x288 with 1 Axes>"
      ]
     },
     "metadata": {
      "needs_background": "light"
     },
     "output_type": "display_data"
    },
    {
     "name": "stdout",
     "output_type": "stream",
     "text": [
      "5.012229612489177e+22\n"
     ]
    }
   ],
   "source": [
    "x_min_before = spline_method(x_before_x[9:-1], y_before_y[9:-1])[0]\n",
    "print(x_min_before)\n",
    "\n",
    "x_min_after = spline_method(x_after_x[10:-6], y_after_y[10:-6])[0]\n",
    "print(x_min_after)"
   ]
  },
  {
   "cell_type": "code",
   "execution_count": 133,
   "metadata": {},
   "outputs": [
    {
     "name": "stderr",
     "output_type": "stream",
     "text": [
      "/Applications/anaconda3/lib/python3.7/site-packages/ipykernel_launcher.py:3: RuntimeWarning: divide by zero encountered in log10\n",
      "  This is separate from the ipykernel package so we can avoid doing imports until\n"
     ]
    },
    {
     "data": {
      "image/png": "[encoded data removed]",
      "text/plain": [
       "<Figure size 432x288 with 1 Axes>"
      ]
     },
     "metadata": {
      "needs_background": "light"
     },
     "output_type": "display_data"
    }
   ],
   "source": [
    "data_array = original_data_retrieval(before_B1_000)\n",
    "plotting_histogram(data_array[(data_array > x_min_before)], 30)\n",
    "x_arr = plotting_histogram(data_array[(data_array > x_min_before)], 30)[0]\n",
    "y_arr = plotting_histogram(data_array[(data_array > x_min_before)], 30)[1]"
   ]
  },
  {
   "cell_type": "code",
   "execution_count": 122,
   "metadata": {},
   "outputs": [],
   "source": [
    "#FITTING FUNCTION SIMILAR TO OLD METHOD USING SPILKER EQ 5 AND 6\n",
    "def resid_log(avec, x, y, b):\n",
    "    A, sigma, mu, alpha, beta = avec\n",
    "    R = np.zeros_like(x)\n",
    "    cond1 = np.where(x<b)\n",
    "    cond2 = np.where(x>b)\n",
    "    R[cond1] = ((A)/((sigma)*np.sqrt(2*np.pi)*np.exp(x[cond1])))*np.exp((-(x[cond1]-mu)**2)/(2*sigma**2)) - y[cond1]\n",
    "    R[cond2] = (alpha*x) + beta - y[cond2]\n",
    "    return R"
   ]
  },
  {
   "cell_type": "code",
   "execution_count": 114,
   "metadata": {},
   "outputs": [],
   "source": [
    "#FITTING FUNCTION USING ONLY SPILKER EQ 6\n",
    "def resid_log_powerlaw(avec, x, y):\n",
    "    alpha, beta = avec\n",
    "    R = np.zeros_like(x)\n",
    "    R = (alpha*x) + beta - y\n",
    "    return R"
   ]
  },
  {
   "cell_type": "code",
   "execution_count": 135,
   "metadata": {},
   "outputs": [
    {
     "name": "stdout",
     "output_type": "stream",
     "text": [
      "1\n",
      "[ -5.33480631 122.14300861]\n"
     ]
    }
   ],
   "source": [
    "#MAKING PARAMETER GUESSES AND RUNNING FUNCTION\n",
    "alpha, beta = -2, 10\n",
    "afit, flag = optimize.leastsq(resid_log_powerlaw, [alpha, beta], args = (x_arr[:-2], y_arr[:-3]))\n",
    "print(flag)\n",
    "print(afit)"
   ]
  },
  {
   "cell_type": "code",
   "execution_count": 136,
   "metadata": {},
   "outputs": [],
   "source": [
    "def fit_powerlaw(afit, x):\n",
    "    yfit = np.zeros_like(x)\n",
    "    yfit = (afit[0]*x) + afit[1]\n",
    "    return yfit"
   ]
  },
  {
   "cell_type": "code",
   "execution_count": 137,
   "metadata": {},
   "outputs": [
    {
     "data": {
      "image/png": "[encoded data removed]",
      "text/plain": [
       "<Figure size 432x288 with 1 Axes>"
      ]
     },
     "metadata": {
      "needs_background": "light"
     },
     "output_type": "display_data"
    }
   ],
   "source": [
    "fig, ax = plt.subplots()\n",
    "ax.scatter(x_arr[:-2], y_arr[:-3])\n",
    "ax.plot(x_arr[:-2], (fit_powerlaw(afit, x_arr[:-2])), color = 'red', linestyle = ':')\n",
    "plt.show()"
   ]
  },
  {
   "cell_type": "code",
   "execution_count": null,
   "metadata": {},
   "outputs": [],
   "source": []
  }
 ],
 "metadata": {
  "kernelspec": {
   "display_name": "Python 3",
   "language": "python",
   "name": "python3"
  },
  "language_info": {
   "codemirror_mode": {
    "name": "ipython",
    "version": 3
   },
   "file_extension": ".py",
   "mimetype": "text/x-python",
   "name": "python",
   "nbconvert_exporter": "python",
   "pygments_lexer": "ipython3",
   "version": "3.7.4"
  }
 },
 "nbformat": 4,
 "nbformat_minor": 2
}
